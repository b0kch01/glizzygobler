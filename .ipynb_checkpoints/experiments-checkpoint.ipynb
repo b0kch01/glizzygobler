{
 "cells": [
  {
   "cell_type": "code",
   "execution_count": null,
   "id": "108b71c0-ccdd-428a-9d61-f73635e19ca6",
   "metadata": {},
   "outputs": [],
   "source": [
    "import numpy as np\n",
    "import opencv"
   ]
  }
 ],
 "metadata": {
  "kernelspec": {
   "display_name": "Python 3 (ipykernel)",
   "language": "python",
   "name": "python3"
  },
  "language_info": {
   "codemirror_mode": {
    "name": "ipython",
    "version": 3
   },
   "file_extension": ".py",
   "mimetype": "text/x-python",
   "name": "python",
   "nbconvert_exporter": "python",
   "pygments_lexer": "ipython3",
   "version": "3.11.1"
  }
 },
 "nbformat": 4,
 "nbformat_minor": 5
}
